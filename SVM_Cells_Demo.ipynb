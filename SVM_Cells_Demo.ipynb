{
 "cells": [
  {
   "cell_type": "code",
   "execution_count": 1,
   "metadata": {},
   "outputs": [
    {
     "data": {
      "text/plain": [
       "ID             int64\n",
       "Clump          int64\n",
       "UnifSize       int64\n",
       "UnifShape      int64\n",
       "MargAdh        int64\n",
       "SingEpiSize    int64\n",
       "BareNuc        int32\n",
       "BlandChrom     int64\n",
       "NormNucl       int64\n",
       "Mit            int64\n",
       "Class          int64\n",
       "dtype: object"
      ]
     },
     "execution_count": 1,
     "metadata": {},
     "output_type": "execute_result"
    },
    {
     "data": {
      "image/png": "[encoded data removed]",
      "text/plain": [
       "<Figure size 432x288 with 1 Axes>"
      ]
     },
     "metadata": {
      "needs_background": "light"
     },
     "output_type": "display_data"
    }
   ],
   "source": [
    "# SVM_Cells_Demo\n",
    "# Referenced from : https://www.youtube.com/watch?v=7sz4WpkUIIs\n",
    "# Data from : https://www.youtube.com/redirect?event=video_description&redir_token=QUFFLUhqbjJPXzlYSjZYWk9kSEJ4SVhjY21jcEtKV2xEd3xBQ3Jtc0tuLXJPX2UtWGREaVlkZlpBWm1TTWJsWWVpMk14MHl3am5ydlVLSHNLbG1FbUI5YUJCZ3haTmVjSWlPZnlSRTdVYy01NkZ4WkFWS1FVNVVQc1ZiYkhIemlHWHlCdFdqZmUxME1WbVY4U2VPVE1CWVlZZw&q=https%3A%2F%2Fs3-api.us-geo.objectstorage.softlayer.net%2Fcf-courses-data%2FCognitiveClass%2FML0101ENv3%2Flabs%2Fcell_samples.csv\n",
    "\n",
    "import pandas as pd\n",
    "import numpy as np\n",
    "import matplotlib.pyplot as plt\n",
    "\n",
    "cell_df = pd.read_csv(\"cell_samples.csv\")\n",
    "\n",
    "\n",
    "\n",
    "# creating variables that store records that are classified as malignant (Class value of 4) and benign (class value of 2) respecitvely\n",
    "malignant_df = cell_df[cell_df['Class'] == 4][0:200]\n",
    "benign_df = cell_df[cell_df['Class'] == 2][0:200]\n",
    "\n",
    "\n",
    "#plotting both benign and malignant data onto the same graph, as a scatterplot with Clump in the x axis and UnifSize as the y\n",
    "axes = benign_df.plot(kind='scatter', x='Clump', y='UnifSize', color='blue', label='Benign')\n",
    "malignant_df.plot(kind='scatter', x='Clump', y='UnifSize', color='red', label='Malignant',ax=axes)\n",
    "\n",
    "\n",
    "# help(benign_df.plot)\n",
    "\n",
    "#now to start removing unnecessary rows from the data, that will not be used in the SVM\n",
    "cell_df.dtypes\n",
    "\n",
    "cell_df = cell_df[pd.to_numeric(cell_df['BareNuc'], errors='coerce').notnull()]\n",
    "cell_df['BareNuc'] = cell_df['BareNuc'].astype('int')\n",
    "cell_df.dtypes\n",
    "\n"
   ]
  },
  {
   "cell_type": "code",
   "execution_count": 2,
   "metadata": {},
   "outputs": [
    {
     "data": {
      "text/plain": [
       "array([2, 2, 2, 2, 2], dtype=int64)"
      ]
     },
     "execution_count": 2,
     "metadata": {},
     "output_type": "execute_result"
    }
   ],
   "source": [
    "# now to start removing unnecessary columns from the data\n",
    "cell_df.columns\n",
    "\n",
    "feature_df = cell_df[['Clump', 'UnifSize', 'UnifShape', 'MargAdh', 'SingEpiSize',\n",
    "       'BareNuc', 'BlandChrom', 'NormNucl', 'Mit']]\n",
    "\n",
    "# we have removed class and id columns from cell_df, going from 11 columns to 9 columns\n",
    "\n",
    "# independent variable\n",
    "X = np.asarray(feature_df)\n",
    "\n",
    "# dependent variable\n",
    "\n",
    "y = np.asarray(cell_df['Class'])\n",
    "\n",
    "y[0:5]"
   ]
  },
  {
   "cell_type": "code",
   "execution_count": 3,
   "metadata": {},
   "outputs": [
    {
     "data": {
      "text/plain": [
       "(137,)"
      ]
     },
     "execution_count": 3,
     "metadata": {},
     "output_type": "execute_result"
    }
   ],
   "source": [
    "# now to start dividing the data into train and test using the data\n",
    "# Train(X,y) where X itself is a 2D array and y is 1D array\n",
    "# Test(X,y)\n",
    "# We will use 80 rows for training and 20 rows for testing\n",
    "\n",
    "from sklearn.model_selection import train_test_split\n",
    "\n",
    "X_train, X_test, y_train, y_test = train_test_split(X, y, test_size=0.2, random_state=4)\n",
    "\n",
    "# 546 rows x 9 columns\n",
    "X_train.shape\n",
    "\n",
    "# 546 rows x 1 column\n",
    "y_train.shape\n",
    "\n",
    "# 137 rows x 9 columns\n",
    "X_test.shape\n",
    "\n",
    "# 137 rows x 9 columns\n",
    "y_test.shape\n"
   ]
  },
  {
   "cell_type": "code",
   "execution_count": 4,
   "metadata": {},
   "outputs": [],
   "source": [
    "from sklearn import svm\n",
    "\n",
    "classifier = svm.SVC(kernel='linear', gamma='auto', C=2)\n",
    "classifier.fit(X_train, y_train)\n",
    "\n",
    "y_predict = classifier.predict(X_test)\n"
   ]
  },
  {
   "cell_type": "code",
   "execution_count": 6,
   "metadata": {},
   "outputs": [
    {
     "name": "stdout",
     "output_type": "stream",
     "text": [
      "              precision    recall  f1-score   support\n",
      "\n",
      "           2       1.00      0.94      0.97        90\n",
      "           4       0.90      1.00      0.95        47\n",
      "\n",
      "    accuracy                           0.96       137\n",
      "   macro avg       0.95      0.97      0.96       137\n",
      "weighted avg       0.97      0.96      0.96       137\n",
      "\n"
     ]
    }
   ],
   "source": [
    "# now to output the results of the prediction to determine the accuracy of SVM\n",
    "\n",
    "from sklearn.metrics import classification_report\n",
    "\n",
    "print(classification_report(y_test, y_predict))"
   ]
  }
 ],
 "metadata": {
  "kernelspec": {
   "display_name": "Python 3 (ipykernel)",
   "language": "python",
   "name": "python3"
  },
  "language_info": {
   "codemirror_mode": {
    "name": "ipython",
    "version": 3
   },
   "file_extension": ".py",
   "mimetype": "text/x-python",
   "name": "python",
   "nbconvert_exporter": "python",
   "pygments_lexer": "ipython3",
   "version": "3.10.9"
  }
 },
 "nbformat": 4,
 "nbformat_minor": 4
}
